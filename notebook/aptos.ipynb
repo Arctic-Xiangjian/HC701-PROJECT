{
 "cells": [
  {
   "cell_type": "code",
   "execution_count": null,
   "metadata": {},
   "outputs": [],
   "source": [
    "import sys\n",
    "sys.path.append(\"../\")\n",
    "import numpy as np\n",
    "import pandas as pd\n",
    "import os\n",
    "import cv2\n",
    "import wandb\n",
    "from datetime import datetime\n",
    "from tqdm import tqdm\n",
    "\n",
    "from dataset.aptos import APTOS\n",
    "\n",
    "import torch\n",
    "from torch.utils.data import Dataset, DataLoader\n",
    "\n",
    "# Which GPU to use\n",
    "device = torch.device(\"cuda:3\" if torch.cuda.is_available() else \"cpu\")"
   ]
  },
  {
   "cell_type": "code",
   "execution_count": null,
   "metadata": {},
   "outputs": [],
   "source": [
    "aptos_train = APTOS('/ssd_Samsung870_2T/hc701-fed/hc701-project')\n",
    "aptos_train_loader = DataLoader(aptos_train, batch_size=4, shuffle=True, num_workers=0)"
   ]
  },
  {
   "attachments": {},
   "cell_type": "markdown",
   "metadata": {},
   "source": [
    "### DensnNet121"
   ]
  },
  {
   "cell_type": "code",
   "execution_count": null,
   "metadata": {},
   "outputs": [],
   "source": [
    "# DenseNet121 baseline\n",
    "from model.baseline import Baseline\n",
    "DesenNet121 = Baseline('densenet121', 5, pretrained=False)\n",
    "Loss = torch.nn.CrossEntropyLoss()\n",
    "optimizer = torch.optim.Adam(DesenNet121.parameters(), lr=0.001)\n",
    "run = wandb.init(project=\"hc701-fed\", entity=\"hc701-fed\", name=\"baseline-densenet121-\")"
   ]
  },
  {
   "cell_type": "code",
   "execution_count": null,
   "metadata": {},
   "outputs": [],
   "source": [
    "# Train\n",
    "DesenNet121.to(device)\n",
    "DesenNet121.train()\n",
    "for epoch in tqdm(range(10)):\n",
    "    for i, (image, label) in enumerate(aptos_train_loader):\n",
    "        image = image.to(device)\n",
    "        label = label.to(device)\n",
    "        optimizer.zero_grad()\n",
    "        output = DesenNet121(image)\n",
    "        loss = Loss(output, label)\n",
    "        run.log({\"loss\": loss.cpu().detach().numpy()})\n",
    "        loss.backward()\n",
    "        optimizer.step()\n",
    "run.finish()"
   ]
  },
  {
   "cell_type": "code",
   "execution_count": null,
   "metadata": {},
   "outputs": [],
   "source": [
    "# Test in the training set\n",
    "# Out put the accuracy and f1 score\n",
    "from sklearn.metrics import f1_score\n",
    "DesenNet121.eval()\n",
    "correct = 0\n",
    "total = 0\n",
    "predict_result = []\n",
    "true_result = []\n",
    "with torch.no_grad():\n",
    "    for i, (image, label) in enumerate(aptos_train_loader):\n",
    "        image = image.to(device)\n",
    "        label = label.to(device)\n",
    "        output = DesenNet121(image)\n",
    "        _, predicted = torch.max(output.data, 1)\n",
    "        predict_result.append(predicted)\n",
    "        true_result.append(label.cpu().numpy().tolist())\n",
    "        total += label.size(0)\n",
    "        correct += (predicted == label).sum().item()\n",
    "print('Accuracy of the network on the train images: %d %%' % (100 * correct / total))"
   ]
  },
  {
   "cell_type": "code",
   "execution_count": null,
   "metadata": {},
   "outputs": [],
   "source": [
    "y_pre = []\n",
    "for i in predict_result:\n",
    "    j  = i.cpu().numpy().tolist()\n",
    "    for k in j:\n",
    "        y_pre.append(k)"
   ]
  },
  {
   "cell_type": "code",
   "execution_count": null,
   "metadata": {},
   "outputs": [],
   "source": [
    "y_true = []\n",
    "for i in true_result:\n",
    "    for j in i:\n",
    "        y_true.append(j)"
   ]
  },
  {
   "cell_type": "code",
   "execution_count": null,
   "metadata": {},
   "outputs": [],
   "source": [
    "f1_score(y_true, y_pre, average='macro')"
   ]
  }
 ],
 "metadata": {
  "kernelspec": {
   "display_name": "xray",
   "language": "python",
   "name": "python3"
  },
  "language_info": {
   "codemirror_mode": {
    "name": "ipython",
    "version": 3
   },
   "file_extension": ".py",
   "mimetype": "text/x-python",
   "name": "python",
   "nbconvert_exporter": "python",
   "pygments_lexer": "ipython3",
   "version": "3.8.15"
  },
  "orig_nbformat": 4,
  "vscode": {
   "interpreter": {
    "hash": "7f8c74efb3258c0dd310c152bd449013d08b2f13256b550f33374da45b758114"
   }
  }
 },
 "nbformat": 4,
 "nbformat_minor": 2
}
