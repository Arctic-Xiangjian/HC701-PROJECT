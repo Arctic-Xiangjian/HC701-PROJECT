{
 "cells": [
  {
   "cell_type": "code",
   "execution_count": 1,
   "metadata": {},
   "outputs": [],
   "source": [
    "import sys\n",
    "sys.path.append(\"../\")\n",
    "import numpy as np\n",
    "import pandas as pd\n",
    "import os\n",
    "import cv2\n",
    "import wandb\n",
    "from datetime import datetime\n",
    "from tqdm import tqdm\n",
    "\n",
    "from dataset.aptos import APTOS\n",
    "\n",
    "import torch\n",
    "from torch.utils.data import Dataset, DataLoader\n",
    "\n",
    "# Which GPU to use\n",
    "device = torch.device(\"cuda:3\" if torch.cuda.is_available() else \"cpu\")"
   ]
  },
  {
   "cell_type": "code",
   "execution_count": 2,
   "metadata": {},
   "outputs": [],
   "source": [
    "aptos_train = APTOS('/ssd_Samsung870_2T/hc701-fed/hc701-project')\n",
    "aptos_train_loader = DataLoader(aptos_train, batch_size=8, shuffle=True, num_workers=0)"
   ]
  },
  {
   "attachments": {},
   "cell_type": "markdown",
   "metadata": {},
   "source": [
    "### DensnNet121"
   ]
  },
  {
   "cell_type": "code",
   "execution_count": 3,
   "metadata": {},
   "outputs": [
    {
     "name": "stderr",
     "output_type": "stream",
     "text": [
      "Failed to detect the name of this notebook, you can set it manually with the WANDB_NOTEBOOK_NAME environment variable to enable code saving.\n",
      "\u001b[34m\u001b[1mwandb\u001b[0m: Currently logged in as: \u001b[33marctic\u001b[0m (\u001b[33marcticfox\u001b[0m). Use \u001b[1m`wandb login --relogin`\u001b[0m to force relogin\n"
     ]
    },
    {
     "data": {
      "text/html": [
       "Tracking run with wandb version 0.13.9"
      ],
      "text/plain": [
       "<IPython.core.display.HTML object>"
      ]
     },
     "metadata": {},
     "output_type": "display_data"
    },
    {
     "data": {
      "text/html": [
       "Run data is saved locally in <code>/ssd_Samsung870_2T/hc701-fed/hc701-project/notebook/wandb/run-20230202_021503-q3hmb9ym</code>"
      ],
      "text/plain": [
       "<IPython.core.display.HTML object>"
      ]
     },
     "metadata": {},
     "output_type": "display_data"
    },
    {
     "data": {
      "text/html": [
       "Syncing run <strong><a href=\"https://wandb.ai/arcticfox/hc701-fed/runs/q3hmb9ym\" target=\"_blank\">baseline-densenet121-2023-02-02 02:15:00.435808</a></strong> to <a href=\"https://wandb.ai/arcticfox/hc701-fed\" target=\"_blank\">Weights & Biases</a> (<a href=\"https://wandb.me/run\" target=\"_blank\">docs</a>)<br/>"
      ],
      "text/plain": [
       "<IPython.core.display.HTML object>"
      ]
     },
     "metadata": {},
     "output_type": "display_data"
    },
    {
     "data": {
      "text/html": [
       " View project at <a href=\"https://wandb.ai/arcticfox/hc701-fed\" target=\"_blank\">https://wandb.ai/arcticfox/hc701-fed</a>"
      ],
      "text/plain": [
       "<IPython.core.display.HTML object>"
      ]
     },
     "metadata": {},
     "output_type": "display_data"
    },
    {
     "data": {
      "text/html": [
       " View run at <a href=\"https://wandb.ai/arcticfox/hc701-fed/runs/q3hmb9ym\" target=\"_blank\">https://wandb.ai/arcticfox/hc701-fed/runs/q3hmb9ym</a>"
      ],
      "text/plain": [
       "<IPython.core.display.HTML object>"
      ]
     },
     "metadata": {},
     "output_type": "display_data"
    }
   ],
   "source": [
    "# DenseNet121 baseline\n",
    "from model.baseline import Baseline\n",
    "DesenNet121 = Baseline('densenet121', 5, pretrained=False)\n",
    "Loss = torch.nn.CrossEntropyLoss()\n",
    "optimizer = torch.optim.SGD(DesenNet121.parameters(), lr=0.0001)\n",
    "run = wandb.init(project=\"hc701-fed\", entity=\"arcticfox\", name=f\"baseline-densenet121-{str(datetime.now())}\",job_type='train',reinit=True,)"
   ]
  },
  {
   "cell_type": "code",
   "execution_count": 4,
   "metadata": {},
   "outputs": [
    {
     "name": "stderr",
     "output_type": "stream",
     "text": [
      " 20%|██        | 2/10 [32:12<2:08:52, 966.51s/it]"
     ]
    }
   ],
   "source": [
    "# Train\n",
    "DesenNet121.to(device)\n",
    "DesenNet121.train()\n",
    "for epoch in tqdm(range(10)):\n",
    "    for i, (image, label) in enumerate(aptos_train_loader):\n",
    "        image = image.to(device)\n",
    "        label = label.to(device)\n",
    "        optimizer.zero_grad()\n",
    "        output = DesenNet121(image)\n",
    "        loss = Loss(output, label)\n",
    "        run.log({\"loss\": loss.cpu().detach().numpy()})\n",
    "        loss.backward()\n",
    "        optimizer.step()\n",
    "run.finish()"
   ]
  },
  {
   "cell_type": "code",
   "execution_count": null,
   "metadata": {},
   "outputs": [],
   "source": [
    "# Test in the training set\n",
    "# Out put the accuracy and f1 score\n",
    "from sklearn.metrics import f1_score\n",
    "DesenNet121.eval()\n",
    "correct = 0\n",
    "total = 0\n",
    "predict_result = []\n",
    "true_result = []\n",
    "with torch.no_grad():\n",
    "    for i, (image, label) in enumerate(aptos_train_loader):\n",
    "        image = image.to(device)\n",
    "        label = label.to(device)\n",
    "        output = DesenNet121(image)\n",
    "        _, predicted = torch.max(output.data, 1)\n",
    "        predict_result.append(predicted)\n",
    "        true_result.append(label.cpu().numpy().tolist())\n",
    "        total += label.size(0)\n",
    "        correct += (predicted == label).sum().item()\n",
    "print('Accuracy of the network on the train images: %d %%' % (100 * correct / total))"
   ]
  },
  {
   "cell_type": "code",
   "execution_count": null,
   "metadata": {},
   "outputs": [],
   "source": [
    "y_pre = []\n",
    "for i in predict_result:\n",
    "    j  = i.cpu().numpy().tolist()\n",
    "    for k in j:\n",
    "        y_pre.append(k)"
   ]
  },
  {
   "cell_type": "code",
   "execution_count": null,
   "metadata": {},
   "outputs": [],
   "source": [
    "y_true = []\n",
    "for i in true_result:\n",
    "    for j in i:\n",
    "        y_true.append(j)"
   ]
  },
  {
   "cell_type": "code",
   "execution_count": null,
   "metadata": {},
   "outputs": [],
   "source": [
    "f1_score(y_true, y_pre, average='macro')"
   ]
  }
 ],
 "metadata": {
  "kernelspec": {
   "display_name": "Python 3",
   "language": "python",
   "name": "python3"
  },
  "language_info": {
   "codemirror_mode": {
    "name": "ipython",
    "version": 3
   },
   "file_extension": ".py",
   "mimetype": "text/x-python",
   "name": "python",
   "nbconvert_exporter": "python",
   "pygments_lexer": "ipython3",
   "version": "3.8.10 (default, Mar 15 2022, 12:22:08) \n[GCC 9.4.0]"
  },
  "orig_nbformat": 4,
  "vscode": {
   "interpreter": {
    "hash": "31f2aee4e71d21fbe5cf8b01ff0e069b9275f58929596ceb00d14d90e3e16cd6"
   }
  }
 },
 "nbformat": 4,
 "nbformat_minor": 2
}
