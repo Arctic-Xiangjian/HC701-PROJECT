{
 "cells": [
  {
   "cell_type": "code",
   "execution_count": 1,
   "metadata": {},
   "outputs": [],
   "source": [
    "import sys\n",
    "sys.path.append(\"../\")\n",
    "import numpy as np\n",
    "import pandas as pd\n",
    "import os\n",
    "import cv2\n",
    "\n",
    "from dataset.aptos import APTOS\n",
    "\n",
    "import torch\n",
    "from torch.utils.data import Dataset, DataLoader\n",
    "\n",
    "# Which GPU to use\n",
    "device = torch.device(\"cuda:3\" if torch.cuda.is_available() else \"cpu\")"
   ]
  },
  {
   "cell_type": "code",
   "execution_count": 2,
   "metadata": {},
   "outputs": [],
   "source": [
    "aptos_train = APTOS('/ssd_Samsung870_2T/hc701-fed/hc701-project')\n",
    "aptos_train_loader = DataLoader(aptos_train, batch_size=4, shuffle=True, num_workers=0)"
   ]
  },
  {
   "attachments": {},
   "cell_type": "markdown",
   "metadata": {},
   "source": [
    "### DensnNet121"
   ]
  },
  {
   "cell_type": "code",
   "execution_count": 3,
   "metadata": {},
   "outputs": [],
   "source": [
    "# DenseNet121 baseline\n",
    "from model.baseline import Baseline\n",
    "DesenNet121 = Baseline('densenet121', 5, pretrained=False)\n",
    "Loss = torch.nn.CrossEntropyLoss()\n",
    "optimizer = torch.optim.Adam(DesenNet121.parameters(), lr=0.001)"
   ]
  },
  {
   "cell_type": "code",
   "execution_count": 4,
   "metadata": {},
   "outputs": [
    {
     "name": "stdout",
     "output_type": "stream",
     "text": [
      "Epoch: 0, Iteration: 0, Loss: 1.7756930589675903\n"
     ]
    }
   ],
   "source": [
    "# Train\n",
    "DesenNet121.to(device)\n",
    "DesenNet121.train()\n",
    "for epoch in range(10):\n",
    "    for i, (image, label) in enumerate(aptos_train_loader):\n",
    "        image = image.to(device)\n",
    "        label = label.to(device)\n",
    "        optimizer.zero_grad()\n",
    "        output = DesenNet121(image)\n",
    "        loss = Loss(output, label)\n",
    "        loss.backward()\n",
    "        optimizer.step()\n",
    "        if i % 100 == 0:\n",
    "            print('Epoch: {}, Iteration: {}, Loss: {}'.format(epoch, i, loss.item()))"
   ]
  }
 ],
 "metadata": {
  "kernelspec": {
   "display_name": "xray",
   "language": "python",
   "name": "python3"
  },
  "language_info": {
   "codemirror_mode": {
    "name": "ipython",
    "version": 3
   },
   "file_extension": ".py",
   "mimetype": "text/x-python",
   "name": "python",
   "nbconvert_exporter": "python",
   "pygments_lexer": "ipython3",
   "version": "3.8.15"
  },
  "orig_nbformat": 4,
  "vscode": {
   "interpreter": {
    "hash": "7f8c74efb3258c0dd310c152bd449013d08b2f13256b550f33374da45b758114"
   }
  }
 },
 "nbformat": 4,
 "nbformat_minor": 2
}
