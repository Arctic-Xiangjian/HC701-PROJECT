{
 "cells": [
  {
   "cell_type": "code",
   "execution_count": 21,
   "metadata": {},
   "outputs": [],
   "source": [
    "import pandas as pd\n",
    "import numpy as np\n",
    "import os\n",
    "from sklearn.model_selection import train_test_split\n",
    "from sklearn.utils import shuffle\n",
    "from PIL import Image\n",
    "from sklearn.model_selection import StratifiedShuffleSplit"
   ]
  },
  {
   "cell_type": "code",
   "execution_count": 2,
   "metadata": {},
   "outputs": [],
   "source": [
    "data_info_path = '/ssd_Samsung870_2T/hc701-fed/hc701-project/data/messidor2/messidor_data.csv'\n",
    "image_path = '/ssd_Samsung870_2T/hc701-fed/hc701-project/data/messidor2/IMAGES'"
   ]
  },
  {
   "cell_type": "code",
   "execution_count": 3,
   "metadata": {},
   "outputs": [],
   "source": [
    "data_info = pd.read_csv(data_info_path)"
   ]
  },
  {
   "cell_type": "code",
   "execution_count": 43,
   "metadata": {},
   "outputs": [],
   "source": [
    "valied_data = {'images' : [], 'labels' : []}\n",
    "# image_id if has jpg needs be capitalized\n",
    "for i,j,k in zip(data_info['image_id'],data_info['adjudicated_dr_grade'],data_info['adjudicated_gradable']):\n",
    "    if k == 1:\n",
    "        # whether image_id has jpg\n",
    "        if i[-3:] == 'jpg':\n",
    "            i = i[:-3] + 'JPG'\n",
    "        valied_data['images'].append(i)\n",
    "        valied_data['labels'].append(j)"
   ]
  },
  {
   "cell_type": "code",
   "execution_count": 44,
   "metadata": {},
   "outputs": [],
   "source": [
    "X= valied_data['images']\n",
    "y= valied_data['labels']\n",
    "sss = StratifiedShuffleSplit(n_splits=1, test_size=0.25, random_state=0)\n",
    "for train_index, test_index in sss.split(X, y):\n",
    "    train_set_index = train_index\n",
    "    test_set_index = test_index\n",
    "Train_data = {}\n",
    "Test_data = {}\n",
    "for i in train_set_index:\n",
    "    image = Image.open(os.path.join(image_path,X[i])).convert('RGB')\n",
    "    image = np.array(image)\n",
    "    Train_data['image'] = image\n",
    "    Train_data['label'] = y[i]\n",
    "    np.save('/ssd_Samsung870_2T/hc701-fed/hc701-project/data/messidor2/train/'+X[i][:-4],Train_data)\n",
    "for i in test_set_index:\n",
    "    image = Image.open(os.path.join(image_path,X[i])).convert('RGB')\n",
    "    image = np.array(image)\n",
    "    Test_data['image'] = image\n",
    "    Test_data['label'] = y[i]\n",
    "    np.save('/ssd_Samsung870_2T/hc701-fed/hc701-project/data/messidor2/test/'+X[i][:-4],Test_data)"
   ]
  }
 ],
 "metadata": {
  "kernelspec": {
   "display_name": "Python 3",
   "language": "python",
   "name": "python3"
  },
  "language_info": {
   "codemirror_mode": {
    "name": "ipython",
    "version": 3
   },
   "file_extension": ".py",
   "mimetype": "text/x-python",
   "name": "python",
   "nbconvert_exporter": "python",
   "pygments_lexer": "ipython3",
   "version": "3.8.10"
  },
  "orig_nbformat": 4,
  "vscode": {
   "interpreter": {
    "hash": "916dbcbb3f70747c44a77c7bcd40155683ae19c65e1c03b4aa3499c5328201f1"
   }
  }
 },
 "nbformat": 4,
 "nbformat_minor": 2
}
