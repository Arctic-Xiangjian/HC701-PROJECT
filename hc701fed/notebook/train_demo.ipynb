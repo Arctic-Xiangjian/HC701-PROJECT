{
 "cells": [
  {
   "cell_type": "code",
   "execution_count": 1,
   "metadata": {},
   "outputs": [],
   "source": [
    "import sys\n",
    "import numpy as np\n",
    "import pandas as pd\n",
    "import os\n",
    "import cv2\n",
    "import wandb\n",
    "from datetime import datetime\n",
    "from tqdm import tqdm\n",
    "\n",
    "import torch\n",
    "from torch.utils.data import Dataset, DataLoader\n",
    "from torch.utils.data import ConcatDataset\n",
    "\n",
    "sys.path.append('../')\n",
    "from dataset.EyePACS_and_APTOS import Eye_APTOS\n",
    "from dataset.messidor import MESSIDOR\n",
    "\n",
    "# Which GPU to use\n",
    "device = torch.device(\"cuda:2\" if torch.cuda.is_available() else \"cpu\")"
   ]
  },
  {
   "cell_type": "code",
   "execution_count": 2,
   "metadata": {},
   "outputs": [],
   "source": [
    "Eye_APTOS_data_dir_options = {\n",
    "    'EyePACS': '/home/xiangjianhou/hc701-fed/preprocessed/eyepacs',\n",
    "    'APTOS': '/home/xiangjianhou/hc701-fed/preprocessed/aptos',\n",
    "}\n",
    "MESSIDOR_data_dir_options = {\n",
    "    'messidor2': '/home/xiangjianhou/hc701-fed/preprocessed/messidor2',\n",
    "    'messidor_pairs' : '/home/xiangjianhou/hc701-fed/preprocessed/messidor/messidor_pairs',\n",
    "    'messidor_Etienne' : '/home/xiangjianhou/hc701-fed/preprocessed/messidor/messidor_Etienne',\n",
    "    'messidor_Brest-without_dilation' : '/home/xiangjianhou/hc701-fed/preprocessed/messidor/messidor_Brest-without_dilation'\n",
    "}"
   ]
  },
  {
   "cell_type": "code",
   "execution_count": 3,
   "metadata": {},
   "outputs": [],
   "source": [
    "Eye_APTOS_data_dir_options = {\n",
    "    'EyePACS': '/home/xiangjianhou/hc701-fed/preprocessed/eyepacs',\n",
    "    'APTOS': '/home/xiangjianhou/hc701-fed/preprocessed/aptos',\n",
    "}\n",
    "\n",
    "\n",
    "MESSIDOR_data_dir_options = {\n",
    "    'messidor2': '/home/xiangjianhou/hc701-fed/preprocessed/messidor2',\n",
    "    'messidor_pairs' : '/home/xiangjianhou/hc701-fed/preprocessed/messidor/messidor_pairs',\n",
    "    'messidor_Etienne' : '/home/xiangjianhou/hc701-fed/preprocessed/messidor/messidor_Etienne',\n",
    "    'messidor_Brest-without_dilation' : '/home/xiangjianhou/hc701-fed/preprocessed/messidor/messidor_Brest-without_dilation'\n",
    "}\n",
    "\n",
    "\n",
    "APTOS_train = Eye_APTOS(data_dir=Eye_APTOS_data_dir_options['APTOS'], train=True, transform=None)\n",
    "EyePACS_train = Eye_APTOS(data_dir=Eye_APTOS_data_dir_options['EyePACS'], train=True, transform=None)\n",
    "MESSIDOR_2_train = MESSIDOR(data_dir=MESSIDOR_data_dir_options['messidor2'], train=True, transform=None)\n",
    "MESSIDOR_pairs_train = MESSIDOR(data_dir=MESSIDOR_data_dir_options['messidor_pairs'], train=True, transform=None)\n",
    "MESSIDOR_Etienne_train = MESSIDOR(data_dir=MESSIDOR_data_dir_options['messidor_Etienne'], train=True, transform=None)\n",
    "MESSIDOR_Brest_train = MESSIDOR(data_dir=MESSIDOR_data_dir_options['messidor_Brest-without_dilation'], train=True, transform=None)\n",
    "\n",
    "Centerlized_train = ConcatDataset([APTOS_train, EyePACS_train, MESSIDOR_2_train, MESSIDOR_pairs_train, MESSIDOR_Etienne_train,MESSIDOR_Brest_train])\n",
    "MESSIDOR_Centerlized_train = ConcatDataset([MESSIDOR_pairs_train, MESSIDOR_Etienne_train,MESSIDOR_Brest_train])\n",
    "\n",
    "APTOS_test = Eye_APTOS(data_dir=Eye_APTOS_data_dir_options['APTOS'], train=False, transform=None)\n",
    "EyePACS_test = Eye_APTOS(data_dir=Eye_APTOS_data_dir_options['EyePACS'], train=False, transform=None)\n",
    "MESSIDOR_2_test = MESSIDOR(data_dir=MESSIDOR_data_dir_options['messidor2'], train=False, transform=None)\n",
    "MESSIDOR_pairs_test = MESSIDOR(data_dir=MESSIDOR_data_dir_options['messidor_pairs'], train=False, transform=None)\n",
    "MESSIDOR_Etienne_test = MESSIDOR(data_dir=MESSIDOR_data_dir_options['messidor_Etienne'], train=False, transform=None)\n",
    "MESSIDOR_Brest_test = MESSIDOR(data_dir=MESSIDOR_data_dir_options['messidor_Brest-without_dilation'], train=False, transform=None)\n",
    "\n",
    "Centerlized_test = ConcatDataset([APTOS_test, EyePACS_test, MESSIDOR_2_test, MESSIDOR_pairs_test, MESSIDOR_Etienne_test,MESSIDOR_Brest_test])\n",
    "MESSIDOR_Centerlized_test = ConcatDataset([MESSIDOR_pairs_test, MESSIDOR_Etienne_test,MESSIDOR_Brest_test])"
   ]
  },
  {
   "cell_type": "code",
   "execution_count": 4,
   "metadata": {},
   "outputs": [],
   "source": [
    "train_dataset = DataLoader(Centerlized_train, batch_size=32, shuffle=True)\n",
    "MESSIDOR_train_dataset = DataLoader(MESSIDOR_Centerlized_train, batch_size=32, shuffle=True)"
   ]
  },
  {
   "cell_type": "code",
   "execution_count": 5,
   "metadata": {},
   "outputs": [],
   "source": [
    "from model.baseline import Baseline\n",
    "model_demo = Baseline(backbone='densenet121',num_classes=5,pretrained=True)\n",
    "loss = torch.nn.CrossEntropyLoss()\n",
    "optimizer = torch.optim.Adam(model_demo.parameters(), lr=0.001)\n",
    "model_save_path = '/home/xiangjianhou/hc701-fed/checkpoint/MESSIDOR_3_hosptial_4class'"
   ]
  },
  {
   "cell_type": "code",
   "execution_count": 6,
   "metadata": {},
   "outputs": [
    {
     "name": "stdout",
     "output_type": "stream",
     "text": [
      "tensor([0, 0, 0, 0, 4, 2, 0, 0, 0, 2, 0, 0, 0, 2, 0, 0, 1, 0, 2, 0, 2, 0, 1, 0,\n",
      "        0, 0, 0, 0, 0, 1, 0, 4], device='cuda:2')\n",
      "torch.cuda.LongTensor\n"
     ]
    }
   ],
   "source": [
    "model_demo.train()\n",
    "model_demo.to(device)\n",
    "for i, (images, labels) in enumerate(train_dataset):\n",
    "    images = images.to(device,torch.float32)\n",
    "    labels = labels.to(device)\n",
    "    outputs = model_demo(images)\n",
    "    print(labels)\n",
    "    print(labels.type())\n",
    "    loss_value = loss(outputs, labels)\n",
    "    break"
   ]
  },
  {
   "cell_type": "code",
   "execution_count": null,
   "metadata": {},
   "outputs": [],
   "source": [
    "# \n",
    "for epoch in range(100):\n",
    "    model_demo.train()\n",
    "    model_demo.to(device)\n",
    "    for i, (images, labels) in enumerate(train_dataset):\n",
    "        images = images.to(device,torch.float32)\n",
    "        labels = labels.to(device)\n",
    "        outputs = model_demo(images)\n",
    "        loss_value = loss(outputs, labels)\n",
    "        optimizer.zero_grad()\n",
    "        loss_value.backward()\n",
    "        optimizer.step()\n",
    "        print('epoch: {}, batch: {}, loss: {}'.format(epoch, i, loss_value.item()))"
   ]
  },
  {
   "cell_type": "code",
   "execution_count": null,
   "metadata": {},
   "outputs": [],
   "source": [
    "# test model accuracy and f1 score\n",
    "from sklearn.metrics import f1_score\n",
    "model_demo.eval()\n",
    "model_demo.to(device)\n",
    "y_true = []\n",
    "y_pred = []\n",
    "for i, (images, labels) in enumerate(MESSIDOR_Centerlized_test_loader):\n",
    "    images = images.to(device,torch.float32)\n",
    "    labels = labels.to(device)\n",
    "    outputs = model_demo(images)\n",
    "    outputs = torch.argmax(outputs, dim=1)\n",
    "    y_true.append(labels.cpu().numpy())\n",
    "    y_pred.append(outputs.cpu().numpy())\n",
    "y_true = np.concatenate(y_true)\n",
    "y_pred = np.concatenate(y_pred)\n",
    "print('accuracy: {}'.format(np.mean(y_true == y_pred)))\n",
    "print('f1 score: {}'.format(f1_score(y_true, y_pred, average='macro')))"
   ]
  }
 ],
 "metadata": {
  "kernelspec": {
   "display_name": "NRDS",
   "language": "python",
   "name": "python3"
  },
  "language_info": {
   "codemirror_mode": {
    "name": "ipython",
    "version": 3
   },
   "file_extension": ".py",
   "mimetype": "text/x-python",
   "name": "python",
   "nbconvert_exporter": "python",
   "pygments_lexer": "ipython3",
   "version": "3.8.12"
  },
  "orig_nbformat": 4,
  "vscode": {
   "interpreter": {
    "hash": "87bd6fbd7d8ef9673d07d349db42fc09bfd843c87ffc320c73f522404c723ede"
   }
  }
 },
 "nbformat": 4,
 "nbformat_minor": 2
}
