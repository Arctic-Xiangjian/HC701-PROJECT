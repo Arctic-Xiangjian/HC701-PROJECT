{
 "cells": [
  {
   "cell_type": "code",
   "execution_count": 1,
   "metadata": {},
   "outputs": [],
   "source": [
    "import numpy as np\n",
    "import os"
   ]
  },
  {
   "cell_type": "code",
   "execution_count": 2,
   "metadata": {},
   "outputs": [],
   "source": [
    "RAW_DATA_DIR = '/home/hong/hc701/preprocessed/eyepacs_no_label/train'"
   ]
  },
  {
   "cell_type": "code",
   "execution_count": 3,
   "metadata": {},
   "outputs": [],
   "source": [
    "dataset_size=len(os.listdir(RAW_DATA_DIR))\n",
    "# train:val:test = 0.5:0.25:0.25\n",
    "TRAIN_DIR = '/home/hong/hc701/preprocessed/eyepacs/train'\n",
    "VAL_DIR = '/home/hong/hc701/preprocessed/eyepacs/val'\n",
    "TEST_DIR = '/home/hong/hc701/preprocessed/eyepacs/test'"
   ]
  },
  {
   "cell_type": "code",
   "execution_count": 4,
   "metadata": {},
   "outputs": [],
   "source": [
    "# # # train set\n",
    "# # for i in range(int(dataset_size*0.5)):\n",
    "# #     os.rename(os.path.join(RAW_DATA_DIR, os.listdir(RAW_DATA_DIR)[i]), os.path.join(TRAIN_DIR, os.listdir(RAW_DATA_DIR)[i]))\n",
    "from tqdm import tqdm\n",
    "# # val set\n",
    "# for i in tqdm(range(int(dataset_size*0.25))):\n",
    "#     os.rename(os.path.join(RAW_DATA_DIR, os.listdir(RAW_DATA_DIR)[i]), os.path.join(VAL_DIR, os.listdir(RAW_DATA_DIR)[i]))\n",
    "# # test set\n",
    "# for i in tqdm(range(int(dataset_size))):\n",
    "#     print(i)\n",
    "#     os.rename(os.path.join(RAW_DATA_DIR, os.listdir(RAW_DATA_DIR)[i]), os.path.join(TEST_DIR, os.listdir(RAW_DATA_DIR)[i]))"
   ]
  },
  {
   "cell_type": "code",
   "execution_count": 5,
   "metadata": {},
   "outputs": [
    {
     "data": {
      "text/plain": [
       "0"
      ]
     },
     "execution_count": 5,
     "metadata": {},
     "output_type": "execute_result"
    }
   ],
   "source": [
    "dataset_size"
   ]
  },
  {
   "cell_type": "code",
   "execution_count": 6,
   "metadata": {},
   "outputs": [
    {
     "name": "stderr",
     "output_type": "stream",
     "text": [
      "100%|██████████| 17563/17563 [01:03<00:00, 276.75it/s]\n"
     ]
    }
   ],
   "source": [
    "# justify whether the dataset is split correctly\n",
    "len(os.listdir(TRAIN_DIR)) + len(os.listdir(VAL_DIR)) + len(os.listdir(TEST_DIR))\n",
    "from tqdm import tqdm\n",
    "for i in tqdm(os.listdir(TRAIN_DIR)):\n",
    "    if i in os.listdir(VAL_DIR) or i in os.listdir(TEST_DIR):\n",
    "        print(i)"
   ]
  }
 ],
 "metadata": {
  "kernelspec": {
   "display_name": "py38",
   "language": "python",
   "name": "python3"
  },
  "language_info": {
   "codemirror_mode": {
    "name": "ipython",
    "version": 3
   },
   "file_extension": ".py",
   "mimetype": "text/x-python",
   "name": "python",
   "nbconvert_exporter": "python",
   "pygments_lexer": "ipython3",
   "version": "3.8.16"
  },
  "orig_nbformat": 4,
  "vscode": {
   "interpreter": {
    "hash": "58341eed2be0aa5403699bf9109df6259e0c5ba589171d31540bac9d73d24595"
   }
  }
 },
 "nbformat": 4,
 "nbformat_minor": 2
}
