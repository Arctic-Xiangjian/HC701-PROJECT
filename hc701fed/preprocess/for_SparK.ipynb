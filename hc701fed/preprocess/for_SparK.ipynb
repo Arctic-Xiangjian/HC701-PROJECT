{
 "cells": [
  {
   "cell_type": "code",
   "execution_count": 1,
   "metadata": {},
   "outputs": [],
   "source": [
    "import torch\n",
    "\n",
    "import numpy as np\n",
    "import pandas as pd\n",
    "import os\n",
    "from matplotlib import pyplot as plt\n",
    "import cv2\n",
    "from tqdm import tqdm"
   ]
  },
  {
   "cell_type": "code",
   "execution_count": 2,
   "metadata": {},
   "outputs": [],
   "source": [
    "raw_data_dir_aptos_train = '/home/chong.tian/hc701/preprocessed/aptos/train'\n",
    "new_data_dir_aptos_train = '/home/chong.tian/hc701/Pre_train_format/aptos/train'"
   ]
  },
  {
   "cell_type": "code",
   "execution_count": 3,
   "metadata": {},
   "outputs": [],
   "source": [
    "for i in os.listdir(raw_data_dir_aptos_train):\n",
    "    data = np.load(os.path.join(raw_data_dir_aptos_train, i), allow_pickle=True).item()\n",
    "    image = data['image']\n",
    "    label = data['label']+1\n",
    "    save_path = os.path.join(new_data_dir_aptos_train, 'class'+str(label))\n",
    "    if not os.path.exists(save_path):\n",
    "        os.makedirs(save_path)\n",
    "    cv2.imwrite(os.path.join(save_path, i[:-4]+'.png'), image)"
   ]
  },
  {
   "cell_type": "code",
   "execution_count": 4,
   "metadata": {},
   "outputs": [],
   "source": [
    "raw_data_dir_aptos_val = '/home/chong.tian/hc701/preprocessed/aptos/val'\n",
    "new_data_dir_aptos_val = '/home/chong.tian/hc701/Pre_train_format/aptos/val'"
   ]
  },
  {
   "cell_type": "code",
   "execution_count": 5,
   "metadata": {},
   "outputs": [],
   "source": [
    "for i in os.listdir(raw_data_dir_aptos_val):\n",
    "    data = np.load(os.path.join(raw_data_dir_aptos_val, i), allow_pickle=True).item()\n",
    "    image = data['image']\n",
    "    label = data['label']+1\n",
    "    save_path = os.path.join(new_data_dir_aptos_val, 'class'+str(label))\n",
    "    if not os.path.exists(save_path):\n",
    "        os.makedirs(save_path)\n",
    "    cv2.imwrite(os.path.join(save_path, i[:-4]+'.png'), image)"
   ]
  },
  {
   "cell_type": "code",
   "execution_count": 6,
   "metadata": {},
   "outputs": [],
   "source": [
    "raw_data_dir_eyepacs_train = '/home/chong.tian/hc701/preprocessed/eyepacs/train'\n",
    "new_data_dir_eyepacs_train = '/home/chong.tian/hc701/Pre_train_format/eyepacs/train'"
   ]
  },
  {
   "cell_type": "code",
   "execution_count": 7,
   "metadata": {},
   "outputs": [],
   "source": [
    "for i in os.listdir(raw_data_dir_eyepacs_train):\n",
    "    data = np.load(os.path.join(raw_data_dir_eyepacs_train, i), allow_pickle=True).item()\n",
    "    image = data['image']\n",
    "    label = data['label']+1\n",
    "    save_path = os.path.join(new_data_dir_eyepacs_train, 'class'+str(label))\n",
    "    if not os.path.exists(save_path):\n",
    "        os.makedirs(save_path)\n",
    "    # transform image to RGB\n",
    "    image = cv2.cvtColor(image, cv2.COLOR_BGR2RGB)\n",
    "    cv2.imwrite(os.path.join(save_path, i[:-4]+'.png'), image)"
   ]
  },
  {
   "cell_type": "code",
   "execution_count": 8,
   "metadata": {},
   "outputs": [],
   "source": [
    "raw_data_dir_eyepacs_val = '/home/chong.tian/hc701/preprocessed/eyepacs/val'\n",
    "new_data_dir_eyepacs_val = '/home/chong.tian/hc701/Pre_train_format/eyepacs/val'"
   ]
  },
  {
   "cell_type": "code",
   "execution_count": 9,
   "metadata": {},
   "outputs": [],
   "source": [
    "for i in os.listdir(raw_data_dir_eyepacs_val):\n",
    "    data = np.load(os.path.join(raw_data_dir_eyepacs_val, i), allow_pickle=True).item()\n",
    "    image = data['image']\n",
    "    label = data['label']+1\n",
    "    save_path = os.path.join(new_data_dir_eyepacs_val, 'class'+str(label))\n",
    "    if not os.path.exists(save_path):\n",
    "        os.makedirs(save_path)\n",
    "    # transform image to RGB\n",
    "    image = cv2.cvtColor(image, cv2.COLOR_BGR2RGB)\n",
    "    cv2.imwrite(os.path.join(save_path, i[:-4]+'.png'), image)"
   ]
  },
  {
   "cell_type": "code",
   "execution_count": 1,
   "metadata": {},
   "outputs": [],
   "source": [
    "import sys\n",
    "sys.path.append('/home/chong.tian/hc701/HC701-PROJECT')\n",
    "\n",
    "import os\n",
    "import numpy as np\n",
    "\n",
    "import torch\n",
    "import torchvision.transforms as transforms\n",
    "from PIL import Image\n",
    "import matplotlib.pyplot as plt\n",
    "from torch.utils.data import ConcatDataset\n",
    "\n",
    "from hc701fed.dataset.messidor import MESSIDOR"
   ]
  },
  {
   "cell_type": "code",
   "execution_count": 2,
   "metadata": {},
   "outputs": [],
   "source": [
    "PATH_DATA = '/home/chong.tian/hc701'"
   ]
  },
  {
   "cell_type": "code",
   "execution_count": 3,
   "metadata": {},
   "outputs": [],
   "source": [
    "MESSIDOR_data_dir_options = {\n",
    "    'messidor2': os.path.join(PATH_DATA, 'preprocessed/messidor2'),\n",
    "    'messidor_pairs' : os.path.join(PATH_DATA, 'preprocessed/messidor/messidor_pairs'),\n",
    "    'messidor_Etienne' : os.path.join(PATH_DATA, 'preprocessed/messidor/messidor_Etienne'),\n",
    "    'messidor_Brest-without_dilation' : os.path.join(PATH_DATA, 'preprocessed/messidor/messidor_Brest-without_dilation')\n",
    "}"
   ]
  },
  {
   "cell_type": "code",
   "execution_count": 4,
   "metadata": {},
   "outputs": [],
   "source": [
    "MESSIDOR_2_train = MESSIDOR(data_dir=MESSIDOR_data_dir_options['messidor2'], mode='train', transform_=None)\n",
    "MESSIDOR_pairs_train = MESSIDOR(data_dir=MESSIDOR_data_dir_options['messidor_pairs'], mode='train', transform_=None)\n",
    "MESSIDOR_Etienne_train = MESSIDOR(data_dir=MESSIDOR_data_dir_options['messidor_Etienne'], mode='train', transform_=None)\n",
    "MESSIDOR_Brest_train = MESSIDOR(data_dir=MESSIDOR_data_dir_options['messidor_Brest-without_dilation'], mode='train', transform_=None)\n",
    "\n",
    "MESSIDOR_2_Val = MESSIDOR(data_dir=MESSIDOR_data_dir_options['messidor2'], mode='val', transform_=None)\n",
    "MESSIDOR_pairs_Val = MESSIDOR(data_dir=MESSIDOR_data_dir_options['messidor_pairs'], mode='val', transform_=None)\n",
    "MESSIDOR_Etienne_Val = MESSIDOR(data_dir=MESSIDOR_data_dir_options['messidor_Etienne'], mode='val', transform_=None)\n",
    "MESSIDOR_Brest_Val = MESSIDOR(data_dir=MESSIDOR_data_dir_options['messidor_Brest-without_dilation'], mode='val', transform_=None)"
   ]
  },
  {
   "cell_type": "code",
   "execution_count": 5,
   "metadata": {},
   "outputs": [],
   "source": [
    "MESSIDOR_train = ConcatDataset([MESSIDOR_pairs_train, MESSIDOR_Etienne_train, MESSIDOR_Brest_train])\n",
    "MESSIDOR_Val = ConcatDataset([MESSIDOR_pairs_Val, MESSIDOR_Etienne_Val, MESSIDOR_Brest_Val])"
   ]
  },
  {
   "cell_type": "code",
   "execution_count": 6,
   "metadata": {},
   "outputs": [],
   "source": [
    "MESSIDOR_2_train_loader = torch.utils.data.DataLoader(MESSIDOR_2_train, batch_size=1, shuffle=False, num_workers=4)\n",
    "MESSIDOR_train_loader = torch.utils.data.DataLoader(MESSIDOR_train, batch_size=1, shuffle=False, num_workers=4)\n",
    "\n",
    "MESSIDOR_2_Val_loader = torch.utils.data.DataLoader(MESSIDOR_2_Val, batch_size=1, shuffle=False, num_workers=4)\n",
    "MESSIDOR_Val_loader = torch.utils.data.DataLoader(MESSIDOR_Val, batch_size=1, shuffle=False, num_workers=4)"
   ]
  },
  {
   "cell_type": "code",
   "execution_count": 7,
   "metadata": {},
   "outputs": [],
   "source": [
    "save_path_meta = '/home/chong.tian/hc701/Pre_train_format/messidor2/train'\n",
    "for i,(X,y) in enumerate(MESSIDOR_2_train_loader):\n",
    "    X = X.squeeze().detach().cpu()\n",
    "    X = transforms.ToPILImage()(X)\n",
    "    label = int(y.tolist()[0])+1\n",
    "    save_path = os.path.join(save_path_meta, 'class'+str(label))\n",
    "    if not os.path.exists(save_path):\n",
    "        os.makedirs(save_path)\n",
    "    X.save(os.path.join(save_path, f\"messidor_2_train_image_{i}.png\"), format=\"PNG\")\n",
    "\n",
    "save_path_meta = '/home/chong.tian/hc701/Pre_train_format/messidor2/val'\n",
    "for i,(X,y) in enumerate(MESSIDOR_2_Val_loader):\n",
    "    X = X.squeeze().detach().cpu()\n",
    "    X = transforms.ToPILImage()(X)\n",
    "    label = int(y.tolist()[0])+1\n",
    "    save_path = os.path.join(save_path_meta, 'class'+str(label))\n",
    "    if not os.path.exists(save_path):\n",
    "        os.makedirs(save_path)\n",
    "    X.save(os.path.join(save_path, f\"messidor_2_val_image_{i}.png\"), format=\"PNG\")"
   ]
  },
  {
   "cell_type": "code",
   "execution_count": null,
   "metadata": {},
   "outputs": [],
   "source": [
    "save_path_meta = '/home/chong.tian/hc701/Pre_train_format/messidor/train'\n",
    "for i,(X,y) in enumerate(MESSIDOR_train_loader):\n",
    "    X = X.squeeze().detach().cpu()\n",
    "    X = transforms.ToPILImage()(X)\n",
    "    label = int(y.tolist()[0])+1\n",
    "    save_path = os.path.join(save_path_meta, 'class'+str(label))\n",
    "    if not os.path.exists(save_path):\n",
    "        os.makedirs(save_path)\n",
    "    X.save(os.path.join(save_path, f\"messidor_train_image_{i}.png\"), format=\"PNG\")\n",
    "\n",
    "save_path_meta = '/home/chong.tian/hc701/Pre_train_format/messidor/val'\n",
    "for i,(X,y) in enumerate(MESSIDOR_Val_loader):\n",
    "    X = X.squeeze().detach().cpu()\n",
    "    X = transforms.ToPILImage()(X)\n",
    "    label = int(y.tolist()[0])+1\n",
    "    save_path = os.path.join(save_path_meta, 'class'+str(label))\n",
    "    if not os.path.exists(save_path):\n",
    "        os.makedirs(save_path)\n",
    "    X.save(os.path.join(save_path, f\"messidor_val_image_{i}.png\"), format=\"PNG\")"
   ]
  }
 ],
 "metadata": {
  "kernelspec": {
   "display_name": "py38",
   "language": "python",
   "name": "python3"
  },
  "language_info": {
   "codemirror_mode": {
    "name": "ipython",
    "version": 3
   },
   "file_extension": ".py",
   "mimetype": "text/x-python",
   "name": "python",
   "nbconvert_exporter": "python",
   "pygments_lexer": "ipython3",
   "version": "3.8.16"
  },
  "orig_nbformat": 4
 },
 "nbformat": 4,
 "nbformat_minor": 2
}
